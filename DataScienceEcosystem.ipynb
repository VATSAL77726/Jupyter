{
 "cells": [
  {
   "cell_type": "markdown",
   "id": "054547a5-0b3f-4178-9c30-23db83b624c2",
   "metadata": {
    "tags": []
   },
   "source": [
    "# Data Science Tools and Ecosystem"
   ]
  },
  {
   "cell_type": "markdown",
   "id": "27be4f75-2b97-4d85-b6bb-0cb82cd56d3d",
   "metadata": {},
   "source": [
    "In this notebook, Data Science Tools and Ecosystem are summarized."
   ]
  },
  {
   "cell_type": "markdown",
   "id": "7475063d-0a34-4125-a4aa-a85a3c9a52e7",
   "metadata": {},
   "source": [
    "**Objectives:**\n",
    "\n",
    "- List some popular Languages\n",
    "- List some popular Libraries\n",
    "- List some popular Data Science Tools\n",
    "- Arithmetic expressions and its execution\n",
    "- From minutes to hours"
   ]
  },
  {
   "cell_type": "markdown",
   "id": "d283a73d-3b90-4401-a31a-3cd818e130a6",
   "metadata": {
    "tags": []
   },
   "source": [
    "Some of the popular languages that Data Scientists use are:\n",
    "1. R\n",
    "2. Python \n",
    "3. Julia\n",
    "4. Scala"
   ]
  },
  {
   "cell_type": "markdown",
   "id": "9052b2fc-277b-4bc6-834d-f19b31836907",
   "metadata": {},
   "source": [
    "Some of the commonly used libraries used by Data Scientists include:\n",
    "\n",
    "1. Numpy\n",
    "2. Pandas\n",
    "3. scikit-learn\n",
    "4. Matplotlib"
   ]
  },
  {
   "cell_type": "markdown",
   "id": "f86f3586-21f1-44da-bf10-c1ea200433a5",
   "metadata": {},
   "source": [
    "|Data Science Tools|\n",
    "------------------\n",
    "|Jupyter Notebook|\n",
    "|R Studio|\n",
    "|Pytorch|"
   ]
  },
  {
   "cell_type": "markdown",
   "id": "ee7662f6-bb72-4ff6-a2ee-e40206af0fc3",
   "metadata": {},
   "source": [
    "### Below are a few examples of evaluating arithmetic expressions in Python"
   ]
  },
  {
   "cell_type": "code",
   "execution_count": 1,
   "id": "7ffc15d4-7668-414d-bcde-eaecd9b1cd22",
   "metadata": {
    "tags": []
   },
   "outputs": [
    {
     "data": {
      "text/plain": [
       "17"
      ]
     },
     "execution_count": 1,
     "metadata": {},
     "output_type": "execute_result"
    }
   ],
   "source": [
    "# This a simple arithmetic expression to mutiply then add integers.\n",
    "(3*4)+5"
   ]
  },
  {
   "cell_type": "code",
   "execution_count": 4,
   "id": "d8a1c7dc-1e01-4582-a1dc-80ec6d048314",
   "metadata": {
    "tags": []
   },
   "outputs": [
    {
     "name": "stdout",
     "output_type": "stream",
     "text": [
      "3.33 hours\n"
     ]
    }
   ],
   "source": [
    "# This will convert 200 minutes to hours by diving by 60.\n",
    "\n",
    "print(round(200 / 60, 2), \"hours\")"
   ]
  },
  {
   "cell_type": "markdown",
   "id": "7089a31a-8f97-4ff5-9265-793f2397a3e1",
   "metadata": {},
   "source": [
    "## Author \n",
    "Vatsal Saxena"
   ]
  },
  {
   "cell_type": "code",
   "execution_count": null,
   "id": "ac48dbce-caf3-48eb-9aef-c37a2203f880",
   "metadata": {},
   "outputs": [],
   "source": []
  }
 ],
 "metadata": {
  "kernelspec": {
   "display_name": "Python",
   "language": "python",
   "name": "conda-env-python-py"
  },
  "language_info": {
   "codemirror_mode": {
    "name": "ipython",
    "version": 3
   },
   "file_extension": ".py",
   "mimetype": "text/x-python",
   "name": "python",
   "nbconvert_exporter": "python",
   "pygments_lexer": "ipython3",
   "version": "3.7.12"
  }
 },
 "nbformat": 4,
 "nbformat_minor": 5
}
